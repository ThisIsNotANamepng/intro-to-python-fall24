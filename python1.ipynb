{
 "cells": [
  {
   "cell_type": "markdown",
   "metadata": {},
   "source": [
    "# Intro to Python"
   ]
  },
  {
   "cell_type": "markdown",
   "metadata": {},
   "source": [
    "What is Python used for?\n",
    "- Data Science, Machine Learning, Web Development, Prototyping, Scientific Programming, Scripting, etc.\n",
    "\n",
    "Why use Python?\n",
    "- Python is a high-level language: it is easy to write and it is easy to read.\n",
    "- Resources for learning Python are all over the web."
   ]
  },
  {
   "cell_type": "code",
   "execution_count": 1,
   "metadata": {},
   "outputs": [],
   "source": [
    "# Data Types\n",
    "a = \"Hello\" # string\n",
    "b = 1 # integer\n",
    "c = 0.1 # float\n",
    "\n",
    "d = [1, 2, 'c'] # list\n",
    "e = (1, 2, 'c') # tuple\n",
    "f = {'a': 1, 'b': 2} # dictionary\n",
    "\n",
    "g = True # bool\n",
    "i = None # null"
   ]
  },
  {
   "cell_type": "markdown",
   "metadata": {},
   "source": [
    "### Strings \n",
    "---"
   ]
  },
  {
   "cell_type": "code",
   "execution_count": null,
   "metadata": {},
   "outputs": [],
   "source": [
    "# in Java: String greeting = \"Hello\";\n",
    "\n",
    "s1 = \"This is a string. Pretty neat.\"\n",
    "\n",
    "s2 = 'This is a string 2.'\n",
    "\n",
    "s3 = \"'Really?', you ask.\"\n",
    "\n",
    "s4 = 'Y'\n",
    "\n",
    "s5 = '''I guess thats just\n",
    "how python works...'''\n",
    "\n",
    "print(s1)\n",
    "print(s2)\n",
    "print(s3)\n",
    "print(s4)\n",
    "print(s5)"
   ]
  },
  {
   "cell_type": "code",
   "execution_count": null,
   "metadata": {},
   "outputs": [],
   "source": [
    "# in Java: System.out.println(\"The length of the txt string is: \" + txt.length());\n",
    "\n",
    "a_str = \"This is a string.\"\n",
    "an_str = \"This is another.\"\n",
    "\n",
    "print(a_str, an_str)\n",
    "print(a_str + \" \" + an_str)\n",
    "print(\"{} {}\".format(a_str, an_str))\n",
    "print(\"%s %s\" % (a_str, an_str))\n",
    "print(f'{a_str} {an_str}')"
   ]
  },
  {
   "cell_type": "code",
   "execution_count": null,
   "metadata": {},
   "outputs": [],
   "source": [
    "#indexing\n",
    "s = \"Hello\"\n",
    "s[0]"
   ]
  },
  {
   "cell_type": "code",
   "execution_count": null,
   "metadata": {},
   "outputs": [],
   "source": [
    "# length\n",
    "s = \"Hello\"\n",
    "len(s)"
   ]
  },
  {
   "cell_type": "code",
   "execution_count": 2,
   "metadata": {},
   "outputs": [
    {
     "name": "stdout",
     "output_type": "stream",
     "text": [
      "['Welcome', ' My name is Python']\n"
     ]
    }
   ],
   "source": [
    "# splitting\n",
    "s = \"Welcome. My name is Python\"\n",
    "strs = s.split(\".\")\n",
    "\n",
    "print(strs)"
   ]
  },
  {
   "cell_type": "code",
   "execution_count": 3,
   "metadata": {},
   "outputs": [
    {
     "data": {
      "text/plain": [
       "True"
      ]
     },
     "execution_count": 3,
     "metadata": {},
     "output_type": "execute_result"
    }
   ],
   "source": [
    "# substrings\n",
    "\"Welcome\" in s"
   ]
  },
  {
   "cell_type": "code",
   "execution_count": 4,
   "metadata": {},
   "outputs": [
    {
     "name": "stdout",
     "output_type": "stream",
     "text": [
      "lowercase:                welcome\n",
      "UPPERCASE:                WELCOME\n",
      "Count of W's:             1\n",
      "Count of w's:             0\n",
      "Replace 'elco' with 'ak': Wake\n"
     ]
    }
   ],
   "source": [
    "# other string methods\n",
    "s = \"Welcome\"\n",
    "print(f\"lowercase:                {s.lower()}\")\n",
    "print(f\"UPPERCASE:                {s.upper()}\")\n",
    "print(f\"Count of W's:             {s.count('W')}\")\n",
    "print(f\"Count of w's:             {s.count('w')}\")\n",
    "print(f\"Replace 'elco' with 'ak': {s.replace('elcom', 'ak')}\")"
   ]
  },
  {
   "cell_type": "markdown",
   "metadata": {},
   "source": [
    "#### Mini Challenge\n",
    "\n",
    "---\n",
    "\n",
    "1. Create a string with the value \"Welcome one. Welcome all!\" (this is done for you).\n",
    "<br/><br/>\n",
    "2. Split the string by the `.` character and assign the result to `list_of_strs`. \n",
    "<br/><br/>\n",
    "3. Join the strings back together using `\"...\".join(list_of_strs)`\n",
    "<br/><br/>\n",
    "4. Finally, replace 'Welcome' with 'WELCOME'.\n",
    "<br/><br/>\n",
    "5. BONUS: Is \"welcome\" a substring of your new string?\n",
    "<br/><br/>\n",
    "6. BONUS: Why were both `Welcome`s changed? Can you change the first one only? "
   ]
  },
  {
   "cell_type": "code",
   "execution_count": null,
   "metadata": {},
   "outputs": [],
   "source": []
  },
  {
   "cell_type": "markdown",
   "metadata": {},
   "source": [
    "### Ints and Floats (Numeric Types)\n",
    "---"
   ]
  },
  {
   "cell_type": "code",
   "execution_count": null,
   "metadata": {},
   "outputs": [],
   "source": [
    "a = 5\n",
    "b = -2\n",
    "\n",
    "c = -34.127647\n",
    "d = 3.14159\n",
    "e = 2.71828"
   ]
  },
  {
   "cell_type": "code",
   "execution_count": 21,
   "metadata": {},
   "outputs": [
    {
     "name": "stdout",
     "output_type": "stream",
     "text": [
      "a + b = 6\n",
      "a - b = 4\n",
      "a * b = 15\n",
      "a / b = 1.6666666666666667\n",
      "a % c = 2\n",
      "a ** c = 125\n",
      "a // c = 1\n"
     ]
    }
   ],
   "source": [
    "#operations\n",
    "\n",
    "a, b, c = 5, 1, 3\n",
    "\n",
    "print(f'a + b = {a + b}') # addition\n",
    "print(f'a - b = {a - b}') # subtraction\n",
    "print(f'a * b = {a * c}') # multiplication\n",
    "print(f'a / b = {a / c}') # division\n",
    "print(f'a % c = {a % c}') # modulus\n",
    "print(f'a ** c = {a ** c}') # exponentiation\n",
    "print(f'a // c = {a // c}') # integer division"
   ]
  },
  {
   "cell_type": "code",
   "execution_count": 7,
   "metadata": {},
   "outputs": [
    {
     "data": {
      "text/plain": [
       "float"
      ]
     },
     "execution_count": 7,
     "metadata": {},
     "output_type": "execute_result"
    }
   ],
   "source": [
    "# implicit type conversion\n",
    "a = 1\n",
    "b = 2.0\n",
    "\n",
    "type(a + b) "
   ]
  },
  {
   "cell_type": "code",
   "execution_count": 9,
   "metadata": {},
   "outputs": [
    {
     "name": "stdout",
     "output_type": "stream",
     "text": [
      "7\n",
      "10\n"
     ]
    }
   ],
   "source": [
    "# pemdas\n",
    "\n",
    "print(3 + 2 * 2)\n",
    "print((3 + 2) * 2)"
   ]
  },
  {
   "cell_type": "code",
   "execution_count": 10,
   "metadata": {},
   "outputs": [
    {
     "name": "stdout",
     "output_type": "stream",
     "text": [
      "0.10000\n",
      "0.10000000000000000555\n"
     ]
    }
   ],
   "source": [
    "# floating points\n",
    "\n",
    "a = 1/10\n",
    "print(f'{a:.5f}')\n",
    "print(f'{a:.20f}')"
   ]
  },
  {
   "cell_type": "markdown",
   "metadata": {},
   "source": [
    "### Lists and Strings again (Sequence Types)\n",
    "---"
   ]
  },
  {
   "cell_type": "code",
   "execution_count": 11,
   "metadata": {},
   "outputs": [],
   "source": [
    "# List\n",
    "a = [1, 2, 3, 4]\n",
    "b = [\"Hi\", \"My\", \"Name\", \"Is\"]\n",
    "c = [0.1, \"Hi\", 3, [1, 2]]"
   ]
  },
  {
   "cell_type": "code",
   "execution_count": 13,
   "metadata": {},
   "outputs": [
    {
     "name": "stdout",
     "output_type": "stream",
     "text": [
      "a[0]:  1\n",
      "a[-1]: 4\n",
      "a[1:3]: [2, 3]\n"
     ]
    }
   ],
   "source": [
    "# Indexing\n",
    "a = [1, 2, 3, 4]\n",
    "\n",
    "print(f\"a[0]:  {a[0]}\")\n",
    "print(f\"a[-1]: {a[-1]}\")\n",
    "print(f\"a[1:3]: {a[1:3]}\")"
   ]
  },
  {
   "cell_type": "code",
   "execution_count": null,
   "metadata": {},
   "outputs": [],
   "source": [
    "a = [1, \"hi\", 0.1]\n",
    "\n",
    "print(1 in a)\n",
    "print(1 not in a)\n",
    "print(2 in a)\n",
    "print(2 not in a)"
   ]
  },
  {
   "cell_type": "code",
   "execution_count": 14,
   "metadata": {},
   "outputs": [
    {
     "name": "stdout",
     "output_type": "stream",
     "text": [
      "The item at index 0 in the list: Hi\n",
      "The item at index 1 in the list: Python\n",
      "The item at index 2 in the list: People\n"
     ]
    }
   ],
   "source": [
    "# Loops\n",
    "\n",
    "my_list = ['Hi', 'Python', 'People']\n",
    "\n",
    "# the good ole while loop\n",
    "\n",
    "i = 0\n",
    "while(i < len(my_list)):\n",
    "    print(f'The item at index {i} in the list: {my_list[i]}')\n",
    "    i+=1"
   ]
  },
  {
   "cell_type": "code",
   "execution_count": null,
   "metadata": {},
   "outputs": [],
   "source": [
    "my_list = ['Hi', 'Python', 'People']\n",
    "\n",
    "# the python for loop\n",
    "\n",
    "for item in my_list:\n",
    "    print(f'{item}')"
   ]
  },
  {
   "cell_type": "code",
   "execution_count": 55,
   "metadata": {},
   "outputs": [
    {
     "name": "stdout",
     "output_type": "stream",
     "text": [
      "The item at index 0 in the list: Hi\n"
     ]
    }
   ],
   "source": [
    "a = [\"Hi\", \"Python\", \"People\"]\n",
    "\n",
    "# the enumerate method\n",
    "\n",
    "for i, item in enumerate(my_list):\n",
    "    if i == 1: break #continue \n",
    "    print(f'The item at index {i} in the list: {item}')\n",
    "    "
   ]
  },
  {
   "cell_type": "code",
   "execution_count": 22,
   "metadata": {},
   "outputs": [
    {
     "name": "stdout",
     "output_type": "stream",
     "text": [
      "[2, 3, 4]\n"
     ]
    }
   ],
   "source": [
    "# aside about Pythonic coding...\n",
    "\n",
    "# list comprehension\n",
    "a = [1, 2, 3]\n",
    "\n",
    "b = [item + 1 for item in a]\n",
    "\n",
    "print(b)"
   ]
  },
  {
   "cell_type": "code",
   "execution_count": 26,
   "metadata": {},
   "outputs": [
    {
     "name": "stdout",
     "output_type": "stream",
     "text": [
      "Yes\n"
     ]
    }
   ],
   "source": [
    "# brief mention of if-else\n",
    "\n",
    "a = 'red'\n",
    "b = 'blue'\n",
    "\n",
    "if a == 'red' or b == 'green':\n",
    "    print(\"Yes\")\n",
    "else:\n",
    "    print(\"No\")"
   ]
  },
  {
   "cell_type": "code",
   "execution_count": 29,
   "metadata": {},
   "outputs": [
    {
     "name": "stdout",
     "output_type": "stream",
     "text": [
      "Both\n"
     ]
    }
   ],
   "source": [
    "a = True\n",
    "b = True\n",
    "\n",
    "if a and b:\n",
    "    print('Both')    \n",
    "elif a:\n",
    "    print('Just a')\n",
    "elif b:\n",
    "    print('Just b')\n",
    "else:\n",
    "    print('Neither')"
   ]
  },
  {
   "cell_type": "code",
   "execution_count": null,
   "metadata": {},
   "outputs": [],
   "source": [
    "# list comprehension with conditionals\n",
    "\n",
    "a = [1, 2, 3]\n",
    "\n",
    "b = [item * 2 for item in a if item == 1] #\n",
    "\n",
    "print()"
   ]
  },
  {
   "cell_type": "markdown",
   "metadata": {},
   "source": [
    "#### Mini Challenge\n",
    "\n",
    "---\n",
    "\n",
    "1. Calculate the sum of all even integers in the range 0-40\n",
    "<br/>\n",
    "<br/>\n",
    "2. Perform task 1 again but use a different loop style\n",
    "<br/>\n",
    "<br/>\n",
    "3. BONUS: Use list comprehension to create a list of lists where each sub-list contains 3 digits, and the digits span 1 through 9 (the result should be `[[1, 2, 3], [4, 5, 6], [7, 8, 9]]`)."
   ]
  },
  {
   "cell_type": "code",
   "execution_count": null,
   "metadata": {},
   "outputs": [],
   "source": []
  },
  {
   "cell_type": "markdown",
   "metadata": {},
   "source": [
    "### Magic Methods\n",
    "---"
   ]
  },
  {
   "cell_type": "code",
   "execution_count": null,
   "metadata": {},
   "outputs": [],
   "source": [
    "# You may loop over any object which implements the __iter__ method defined (which should return an object that implemetns __next__)\n",
    "\n",
    "a = (0,1)\n",
    "b = [0, 1]\n",
    "c = range(0,10)\n",
    "d = \"Hello\"\n",
    "e = 123\n",
    "\n",
    "# Lets check...\n",
    "# using the hasattr function\n",
    "\n",
    "print(f\"Tuples? {hasattr(a, '__iter__')}\")\n",
    "print(f\"Lists? {hasattr(b, '__iter__')}\")\n",
    "print(f\"Ranges? {hasattr(c, '__iter__')}\")\n",
    "print(f\"Strings? {hasattr(d, '__iter__')}\")\n",
    "print(f\"Integers? {hasattr(e, '__iter__')}\")"
   ]
  },
  {
   "cell_type": "code",
   "execution_count": null,
   "metadata": {},
   "outputs": [],
   "source": [
    "# aside about magic methods\n",
    "\n",
    "# __init__\n",
    "# __iter__\n",
    "# __next__\n",
    "# __getitem__\n",
    "# etc"
   ]
  },
  {
   "cell_type": "markdown",
   "metadata": {},
   "source": [
    "### Immutable vs Mutable\n",
    "---"
   ]
  },
  {
   "cell_type": "code",
   "execution_count": 15,
   "metadata": {},
   "outputs": [
    {
     "name": "stdout",
     "output_type": "stream",
     "text": [
      "a: 3\n",
      "b: 1\n"
     ]
    }
   ],
   "source": [
    "a = 1\n",
    "b = a\n",
    "a = 3\n",
    "\n",
    "print(f'a: {a}')\n",
    "print(f'b: {b}')"
   ]
  },
  {
   "cell_type": "code",
   "execution_count": 16,
   "metadata": {},
   "outputs": [
    {
     "name": "stdout",
     "output_type": "stream",
     "text": [
      "a: [4, 2, 3]\n",
      "b: [4, 2, 3]\n"
     ]
    }
   ],
   "source": [
    "# list\n",
    "\n",
    "a = [1, 2, 3]\n",
    "b = a\n",
    "a[0] = 4\n",
    "\n",
    "print(f'a: {a}')\n",
    "print(f'b: {b}')"
   ]
  },
  {
   "cell_type": "code",
   "execution_count": 17,
   "metadata": {},
   "outputs": [
    {
     "name": "stdout",
     "output_type": "stream",
     "text": [
      "a: [4, 2, 3]\n",
      "b: [1, 2, 3]\n"
     ]
    }
   ],
   "source": [
    "a = [1, 2, 3]\n",
    "b = a[:3]\n",
    "a[0] = 4\n",
    "\n",
    "print(f'a: {a}')\n",
    "print(f'b: {b}')"
   ]
  },
  {
   "cell_type": "code",
   "execution_count": 18,
   "metadata": {},
   "outputs": [
    {
     "name": "stdout",
     "output_type": "stream",
     "text": [
      "a: [4, 2, 3]\n",
      "b: [1, 2, 3]\n"
     ]
    }
   ],
   "source": [
    "a = [1, 2, 3]\n",
    "b = a.copy()\n",
    "a[0] = 4\n",
    "\n",
    "print(f'a: {a}')\n",
    "print(f'b: {b}')"
   ]
  },
  {
   "cell_type": "code",
   "execution_count": 19,
   "metadata": {},
   "outputs": [
    {
     "name": "stdout",
     "output_type": "stream",
     "text": [
      "Hi\n"
     ]
    }
   ],
   "source": [
    "a = input(\"I will repeat\")\n",
    "print(a)"
   ]
  },
  {
   "cell_type": "markdown",
   "metadata": {},
   "source": [
    "### Dictionary (i.e. Hash Map)\n",
    "---"
   ]
  },
  {
   "cell_type": "code",
   "execution_count": null,
   "metadata": {},
   "outputs": [],
   "source": [
    "# another benefit of immutable objects is that they are hashable\n",
    "\n",
    "a = (1, \"Hi\")\n",
    "b = [1, \"Hi\"]\n",
    "\n",
    "a_hash = hash(a)\n",
    "b_hash = hash(b)\n",
    "\n",
    "# print(a_hash)"
   ]
  },
  {
   "cell_type": "markdown",
   "metadata": {},
   "source": [
    "This allows us to use a tuple (or any immutable item) as a key in a dictionary."
   ]
  },
  {
   "cell_type": "code",
   "execution_count": 30,
   "metadata": {},
   "outputs": [
    {
     "name": "stdout",
     "output_type": "stream",
     "text": [
      "[1, 2, 3]\n"
     ]
    }
   ],
   "source": [
    "d = {'a': [1,2,3], 'b': \"Hello\", 'c': 22}\n",
    "\n",
    "print(d['a'])"
   ]
  },
  {
   "cell_type": "code",
   "execution_count": 31,
   "metadata": {},
   "outputs": [
    {
     "name": "stdout",
     "output_type": "stream",
     "text": [
      "{'a': 1, 'b': 2, 'c': 3}\n"
     ]
    }
   ],
   "source": [
    "d['a'] = 1\n",
    "d['b'] = 2\n",
    "d['c'] = 3\n",
    "\n",
    "print(d)"
   ]
  },
  {
   "cell_type": "markdown",
   "metadata": {},
   "source": [
    "### Functions\n",
    "---"
   ]
  },
  {
   "cell_type": "code",
   "execution_count": 50,
   "metadata": {},
   "outputs": [],
   "source": [
    "# syntax\n",
    "\n",
    "def myFunc(p1, p2):\n",
    "    p1 = p1 + p2\n",
    "\n",
    "    return p1\n",
    "\n",
    "# key points:\n",
    "# no type specification\n",
    "# "
   ]
  },
  {
   "cell_type": "code",
   "execution_count": 51,
   "metadata": {},
   "outputs": [
    {
     "name": "stdout",
     "output_type": "stream",
     "text": [
      "result = 5\n",
      "a = 2\n",
      "b = 3\n"
     ]
    }
   ],
   "source": [
    "a = 2\n",
    "b = 3\n",
    "\n",
    "print(f'result = {myFunc(a,b)}')\n",
    "print(f'a = {a}')\n",
    "print(f'b = {b}')"
   ]
  },
  {
   "cell_type": "code",
   "execution_count": 52,
   "metadata": {},
   "outputs": [
    {
     "name": "stdout",
     "output_type": "stream",
     "text": [
      "result = [2, 3]\n",
      "a = [2]\n",
      "b = [3]\n"
     ]
    }
   ],
   "source": [
    "a = [2]\n",
    "b = [3]\n",
    "\n",
    "print(f'result = {myFunc(a,b)}')\n",
    "print(f'a = {a}')\n",
    "print(f'b = {b}')"
   ]
  },
  {
   "cell_type": "code",
   "execution_count": 56,
   "metadata": {},
   "outputs": [],
   "source": [
    "def myFunc(p1):\n",
    "    p1.append(1)\n",
    "    return p1"
   ]
  },
  {
   "cell_type": "code",
   "execution_count": 59,
   "metadata": {},
   "outputs": [
    {
     "name": "stdout",
     "output_type": "stream",
     "text": [
      "result = [2, 1]\n",
      "a = [2, 1]\n"
     ]
    }
   ],
   "source": [
    "a = [2]\n",
    "\n",
    "\n",
    "print(f'result = {myFunc(a)}')\n",
    "print(f'a = {a}')\n",
    "\n",
    "# can you explain why?"
   ]
  },
  {
   "cell_type": "code",
   "execution_count": 61,
   "metadata": {},
   "outputs": [
    {
     "name": "stdout",
     "output_type": "stream",
     "text": [
      "Your name is Andrew.\n"
     ]
    }
   ],
   "source": [
    "# lets explore some other builtin functions\n",
    "\n",
    "a = input(\"Please enter your name:\")\n",
    "\n",
    "print(f'Your name is {a}.')"
   ]
  },
  {
   "cell_type": "code",
   "execution_count": 67,
   "metadata": {},
   "outputs": [
    {
     "name": "stdout",
     "output_type": "stream",
     "text": [
      "The type of a is: <class 'str'>\n"
     ]
    }
   ],
   "source": [
    "a = input(\"Please enter your name:\")\n",
    "\n",
    "print(f'The type of a is: {type(a)}')"
   ]
  },
  {
   "cell_type": "code",
   "execution_count": 70,
   "metadata": {},
   "outputs": [],
   "source": [
    "# explicit type conversion\n",
    "\n",
    "a = int('1')\n",
    "b = str(1)\n",
    "c = tuple([1,2,3])"
   ]
  },
  {
   "cell_type": "code",
   "execution_count": 71,
   "metadata": {},
   "outputs": [
    {
     "name": "stdout",
     "output_type": "stream",
     "text": [
      "a is of the type <class 'int'>\n",
      "b is of the type <class 'str'>\n",
      "c is of the type <class 'tuple'>\n"
     ]
    }
   ],
   "source": [
    "print(f'a is of the type {type(a)}')\n",
    "print(f'b is of the type {type(b)}')\n",
    "print(f'c is of the type {type(c)}')"
   ]
  },
  {
   "cell_type": "markdown",
   "metadata": {},
   "source": [
    "#### Mini Challenge\n",
    "\n",
    "---\n",
    "1. Start by requesting an integer from the user with the `input` function, name the variable that you assign to this integer `num_of_iters`.\n",
    "<br/><br/>\n",
    "2. Now, create a `for` loop and request an integer from the user on each iteration. Use the `num_of_iters` variable to set the number of iterations for the loop.\n",
    "<br/><br/>\n",
    "2. During the loop, each integer entered by the user should be appended to a list.\n",
    "<br/><br/>\n",
    "3. The for loop should end (i.e. `break`) when the user enters 0. \n",
    "<br/>\n",
    "4. After the loop ends call a function which will calculate the sum and mean \n",
    "<br/>Note that **mean** = $\\dfrac{x_1 + x_2 + ... +x_n}{n}$ where $n$ is the length of the list.\n",
    "<br/><br/>\n",
    "5. The function should return both, the sum and the mean, and then you should print both (with informative text).\n",
    "<br/><br/>\n",
    "6. BONUS: Verify that the user input an integer; if they didn't use create a new prompt that tells them to enter an integer only.\n",
    "\n"
   ]
  },
  {
   "cell_type": "code",
   "execution_count": null,
   "metadata": {},
   "outputs": [],
   "source": [
    "# do the challenge here"
   ]
  },
  {
   "cell_type": "code",
   "execution_count": 75,
   "metadata": {},
   "outputs": [
    {
     "ename": "ValueError",
     "evalue": "invalid literal for int() with base 10: 'hi'",
     "output_type": "error",
     "traceback": [
      "\u001b[1;31m---------------------------------------------------------------------------\u001b[0m",
      "\u001b[1;31mValueError\u001b[0m                                Traceback (most recent call last)",
      "Cell \u001b[1;32mIn[75], line 4\u001b[0m\n\u001b[0;32m      1\u001b[0m \u001b[38;5;28;01mdef\u001b[39;00m \u001b[38;5;21mF\u001b[39m(l:\u001b[38;5;28mlist\u001b[39m):\n\u001b[0;32m      2\u001b[0m     \u001b[38;5;28;01mreturn\u001b[39;00m \u001b[38;5;28msum\u001b[39m(l), \u001b[38;5;28msum\u001b[39m(l)\u001b[38;5;241m/\u001b[39m\u001b[38;5;28mlen\u001b[39m(l)\n\u001b[1;32m----> 4\u001b[0m num_of_iters \u001b[38;5;241m=\u001b[39m \u001b[38;5;28;43mint\u001b[39;49m\u001b[43m(\u001b[49m\u001b[38;5;28;43minput\u001b[39;49m\u001b[43m(\u001b[49m\u001b[38;5;124;43m'\u001b[39;49m\u001b[38;5;124;43mPlease enter an integer:\u001b[39;49m\u001b[38;5;124;43m'\u001b[39;49m\u001b[43m)\u001b[49m\u001b[43m)\u001b[49m\n\u001b[0;32m      6\u001b[0m myL \u001b[38;5;241m=\u001b[39m []\n\u001b[0;32m      8\u001b[0m \u001b[38;5;28;01mfor\u001b[39;00m i \u001b[38;5;129;01min\u001b[39;00m \u001b[38;5;28mrange\u001b[39m(num_of_iters):\n",
      "\u001b[1;31mValueError\u001b[0m: invalid literal for int() with base 10: 'hi'"
     ]
    }
   ],
   "source": [
    "def F(l:list):\n",
    "    return sum(l), sum(l)/len(l)\n",
    "\n",
    "num_of_iters = int(input('Please enter an integer:'))\n",
    "\n",
    "myL = []\n",
    "\n",
    "for i in range(num_of_iters):\n",
    "    tmp_int = int(input('Please enter an integer'))\n",
    "    \n",
    "    if tmp_int == 0: break\n",
    "\n",
    "    myL.append(tmp_int)\n",
    "\n",
    "s, m = F(myL)\n",
    "print(f'The sum is {s}')\n",
    "print(f'The mean is {m}')\n",
    "\n"
   ]
  },
  {
   "cell_type": "markdown",
   "metadata": {},
   "source": [
    "### File Handlers\n",
    "---"
   ]
  },
  {
   "cell_type": "code",
   "execution_count": null,
   "metadata": {},
   "outputs": [],
   "source": [
    "# write to a file\n",
    "\n",
    "f = open('my_file.txt', 'w')\n",
    "f.writelines([\"Python is my favorite language.\", \"Java is ok too.\"])\n",
    "f.close()"
   ]
  },
  {
   "cell_type": "code",
   "execution_count": null,
   "metadata": {},
   "outputs": [],
   "source": [
    "# reading\n",
    "\n",
    "f = open('my_file.txt', 'r')\n",
    "lines = f.readlines()\n",
    "f.close()\n",
    "\n",
    "print(lines)"
   ]
  },
  {
   "cell_type": "code",
   "execution_count": null,
   "metadata": {},
   "outputs": [],
   "source": [
    "# alternatively\n",
    "\n",
    "with open('my_file.txt', 'r') as f:\n",
    "    lines = f.readlines()\n",
    "\n",
    "print(lines)\n",
    "\n",
    "# note the differences... What do you think the 'with' statement does?"
   ]
  },
  {
   "cell_type": "markdown",
   "metadata": {},
   "source": [
    "### Python Packages"
   ]
  },
  {
   "cell_type": "code",
   "execution_count": null,
   "metadata": {},
   "outputs": [],
   "source": [
    "\n",
    "import json\n",
    "# import\n"
   ]
  },
  {
   "cell_type": "markdown",
   "metadata": {},
   "source": [
    "#### Mini Challenge\n",
    "---\n",
    "This challenge will have you implement a queue. Queues are common data structures that follow the First-in, First-out (FIFO) principal. Python lists are the perfect object for implementing queues.\n",
    "\n",
    "<br/><br/>\n",
    "1. Loop over \n"
   ]
  }
 ],
 "metadata": {
  "kernelspec": {
   "display_name": "Python 3",
   "language": "python",
   "name": "python3"
  },
  "language_info": {
   "codemirror_mode": {
    "name": "ipython",
    "version": 3
   },
   "file_extension": ".py",
   "mimetype": "text/x-python",
   "name": "python",
   "nbconvert_exporter": "python",
   "pygments_lexer": "ipython3",
   "version": "3.10.6"
  }
 },
 "nbformat": 4,
 "nbformat_minor": 2
}
